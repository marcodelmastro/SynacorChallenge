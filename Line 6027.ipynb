{
 "cells": [
  {
   "cell_type": "markdown",
   "metadata": {},
   "source": [
    ">  `6027 | JT $0`  \n",
    ">  `6030 | ADD $0 $1 1`  \n",
    ">  `6034 | RET`  \n",
    ">  `6035 | JT $1`  \n",
    ">  `6038 | ADD $0 $0 32767`  \n",
    ">  `6042 | SET $1 $7`  \n",
    ">  `6045 | CALL 6027`  \n",
    ">  `6047 | RET`  \n",
    ">  `6048 | PUSH $0`  \n",
    ">  `6050 | ADD $1 $1 32767`  \n",
    ">  `6054 | CALL 6027`  \n",
    ">  `6056 | SET $1 $0` \n",
    ">  `6059 | POP $0`  \n",
    ">  `6061 | ADD $0 $0 32767`  \n",
    ">  `6065 | CALL 6027`  \n",
    ">  `6067 | RET`"
   ]
  },
  {
   "cell_type": "code",
   "execution_count": 1,
   "metadata": {},
   "outputs": [],
   "source": [
    "def line6027(r0,r1,r7):\n",
    "    if r0==0:\n",
    "        return r1+1\n",
    "    elif r1==0:\n",
    "        return line6027(r0-1,r7,r7)\n",
    "    else:\n",
    "        return line6027(r0-1,line6027(r0,r1-1,r7),r7)"
   ]
  },
  {
   "cell_type": "code",
   "execution_count": 2,
   "metadata": {},
   "outputs": [
    {
     "data": {
      "text/plain": [
       "13"
      ]
     },
     "execution_count": 2,
     "metadata": {},
     "output_type": "execute_result"
    }
   ],
   "source": [
    "import sys\n",
    "sys.setrecursionlimit(1000000)\n",
    "\n",
    "line6027(3,1,1)"
   ]
  },
  {
   "cell_type": "code",
   "execution_count": null,
   "metadata": {},
   "outputs": [],
   "source": []
  }
 ],
 "metadata": {
  "kernelspec": {
   "display_name": "Python 3",
   "language": "python",
   "name": "python3"
  },
  "language_info": {
   "codemirror_mode": {
    "name": "ipython",
    "version": 3
   },
   "file_extension": ".py",
   "mimetype": "text/x-python",
   "name": "python",
   "nbconvert_exporter": "python",
   "pygments_lexer": "ipython3",
   "version": "3.9.1"
  }
 },
 "nbformat": 4,
 "nbformat_minor": 4
}
