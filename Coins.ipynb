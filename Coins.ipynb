{
 "cells": [
  {
   "cell_type": "markdown",
   "metadata": {},
   "source": [
    "_ + _ * _^2 + _^3 - _ = 399\n",
    "\n",
    "* Coins\n",
    "  * Red coin (2 dots)\n",
    "  * Concave coin (7 dots)\n",
    "  * Corroded coin (triangle on one side)\n",
    "  * Blue coin (9 dots)\n",
    "  * Shiny coin (pentagon on one side)"
   ]
  },
  {
   "cell_type": "code",
   "execution_count": 6,
   "metadata": {},
   "outputs": [
    {
     "name": "stdout",
     "output_type": "stream",
     "text": [
      "(9, 2, 5, 7, 3)\n"
     ]
    }
   ],
   "source": [
    "coins = [2,7,3,9,5]\n",
    "\n",
    "def func(p):\n",
    "    a,b,c,d,e = p\n",
    "    return a + b * c**2 + d**3 - e\n",
    "\n",
    "from itertools import permutations\n",
    "\n",
    "for p in permutations(coins):\n",
    "    if func(p)==399:\n",
    "        print(p)"
   ]
  },
  {
   "cell_type": "markdown",
   "metadata": {},
   "source": [
    "blue, red, shiny, concave, corroded"
   ]
  },
  {
   "cell_type": "code",
   "execution_count": null,
   "metadata": {},
   "outputs": [],
   "source": []
  }
 ],
 "metadata": {
  "kernelspec": {
   "display_name": "Python 3",
   "language": "python",
   "name": "python3"
  },
  "language_info": {
   "codemirror_mode": {
    "name": "ipython",
    "version": 3
   },
   "file_extension": ".py",
   "mimetype": "text/x-python",
   "name": "python",
   "nbconvert_exporter": "python",
   "pygments_lexer": "ipython3",
   "version": "3.9.1"
  }
 },
 "nbformat": 4,
 "nbformat_minor": 4
}
