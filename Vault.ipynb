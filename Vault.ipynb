{
 "cells": [
  {
   "cell_type": "markdown",
   "metadata": {},
   "source": [
    "`  *   8   -   1 -> V(30)`  \n",
    "`  4   *  11   *`  \n",
    "`  +   4   -  18`  \n",
    "`(22)  -   9   *`  "
   ]
  },
  {
   "cell_type": "code",
   "execution_count": 1,
   "metadata": {},
   "outputs": [],
   "source": [
    "grid = [\n",
    "    [  \"*\", \"8\", \"-\", \"1\" ],\n",
    "    [  \"4\", \"*\",\"11\", \"*\" ],\n",
    "    [  \"+\", \"4\", \"-\",\"18\" ],\n",
    "    [ \"22\", \"-\", \"9\", \"*\" ]\n",
    "]"
   ]
  },
  {
   "cell_type": "code",
   "execution_count": 5,
   "metadata": {},
   "outputs": [
    {
     "name": "stdout",
     "output_type": "stream",
     "text": [
      "Found path!\n",
      "((((((22+4)-11)*4)-18)-11)-1)\n",
      "NEENWSEEWNNE\n"
     ]
    }
   ],
   "source": [
    "from queue import Queue\n",
    "from collections import defaultdict\n",
    "\n",
    "def coord(p):\n",
    "    return int(p.real), -int(p.imag)\n",
    "\n",
    "mov = {}\n",
    "mov[\"N\"] = +1j\n",
    "mov[\"S\"] = -1j\n",
    "mov[\"E\"] = +1\n",
    "mov[\"W\"] = -1\n",
    "\n",
    "def getMoves(p):\n",
    "    s = []\n",
    "    for sm in (\"N\",\"S\",\"W\",\"E\"):\n",
    "        pm = p+mov[sm]\n",
    "        xm,ym = coord(pm)\n",
    "        if 0<=xm<4 and 0<=ym<4 and not (xm==0 and ym==3):\n",
    "            s.append((pm,sm))\n",
    "    return s\n",
    "\n",
    "pstart = 0-3j\n",
    "pend   = 3+0j\n",
    "\n",
    "p = pstart\n",
    "paths = Queue()\n",
    "paths.put( (p,\"\",\"22\") )\n",
    "\n",
    "visited = defaultdict(bool)\n",
    "visited[p] = True\n",
    "\n",
    "while True:\n",
    "    Found = False\n",
    "    p,moves,seq = paths.get()    \n",
    "    for pnew,sm in getMoves(p):\n",
    "        if visited[pnew]:\n",
    "            pass\n",
    "        mnew = moves+sm\n",
    "        xm,ym = coord(pnew)\n",
    "        seqnew = seq+grid[ym][xm]\n",
    "        if seqnew[-1]!=\"+\" and seqnew[-1]!=\"-\" and seqnew[-1]!=\"*\":\n",
    "            seqnew = \"(\"+seqnew+\")\"\n",
    "        if pnew==pend:\n",
    "            value = eval(seqnew)\n",
    "            if value==30:\n",
    "                print(\"Found path!\")\n",
    "                print(seqnew)\n",
    "                print(mnew)\n",
    "                Found = True\n",
    "                break\n",
    "        else:\n",
    "            paths.put( ( pnew,mnew,seqnew ) )       \n",
    "    if Found:\n",
    "        break"
   ]
  },
  {
   "cell_type": "code",
   "execution_count": 6,
   "metadata": {},
   "outputs": [
    {
     "name": "stdout",
     "output_type": "stream",
     "text": [
      "north\n",
      "east\n",
      "east\n",
      "north\n",
      "west\n",
      "south\n",
      "east\n",
      "east\n",
      "west\n",
      "north\n",
      "north\n",
      "east\n"
     ]
    }
   ],
   "source": [
    "# saving moves to moves.txt to automate walk\n",
    "for m in mnew:\n",
    "    if   m==\"N\": print(\"north\")\n",
    "    elif m==\"S\": print(\"south\")\n",
    "    elif m==\"W\": print(\"west\")\n",
    "    elif m==\"E\": print(\"east\")"
   ]
  },
  {
   "cell_type": "code",
   "execution_count": 7,
   "metadata": {},
   "outputs": [
    {
     "name": "stdout",
     "output_type": "stream",
     "text": [
      "HUdvA8xMbd8H\n"
     ]
    }
   ],
   "source": [
    "codemirror = \"H8bdMx8AvbUH\"\n",
    "print(codemirror[::-1].replace(\"b\",\"_\").replace(\"d\",\"b\").replace(\"_\",\"d\"))"
   ]
  },
  {
   "cell_type": "code",
   "execution_count": null,
   "metadata": {},
   "outputs": [],
   "source": []
  }
 ],
 "metadata": {
  "kernelspec": {
   "display_name": "Python 3",
   "language": "python",
   "name": "python3"
  },
  "language_info": {
   "codemirror_mode": {
    "name": "ipython",
    "version": 3
   },
   "file_extension": ".py",
   "mimetype": "text/x-python",
   "name": "python",
   "nbconvert_exporter": "python",
   "pygments_lexer": "ipython3",
   "version": "3.9.1"
  }
 },
 "nbformat": 4,
 "nbformat_minor": 4
}
